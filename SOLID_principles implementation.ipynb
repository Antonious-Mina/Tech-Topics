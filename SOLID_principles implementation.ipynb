{
 "cells": [
  {
   "cell_type": "markdown",
   "id": "7fb35218",
   "metadata": {},
   "source": [
    "### The SOLID principles :"
   ]
  },
  {
   "cell_type": "markdown",
   "id": "8ac8a62d",
   "metadata": {},
   "source": [
    "The SOLID principles are a set of design principles in object-oriented programming aimed at improving software maintainability and scalability. Each principle helps create robust and flexible systems that are easier to understand, modify, and extend. Here's a breakdown of each principle with examples before and after applying SOLID principles:"
   ]
  },
  {
   "cell_type": "markdown",
   "id": "26f75b19",
   "metadata": {},
   "source": [
    "1. Single Responsibility Principle (SRP)\n",
    "Definition: A class should have only one reason to change, meaning it should only have one responsibility.\n",
    "\n",
    "Before (Violation of SRP):\n",
    "Here, the Report class handles both generating and saving the report, violating SRP.\n",
    "\n"
   ]
  },
  {
   "cell_type": "code",
   "execution_count": 4,
   "id": "2ed8acd8",
   "metadata": {},
   "outputs": [],
   "source": [
    "class Report:\n",
    "    def generate_report(self):\n",
    "        print(\"Generating report...\")\n",
    "    \n",
    "    def save_to_file(self, file_name):\n",
    "        print(f\"Saving report to {file_name}\")\n"
   ]
  },
  {
   "cell_type": "markdown",
   "id": "db1924f4",
   "metadata": {},
   "source": [
    "After (Following SRP):\n",
    "Now, Report handles report generation, and FileSaver handles file saving.\n",
    "\n"
   ]
  },
  {
   "cell_type": "code",
   "execution_count": 3,
   "id": "554a5236",
   "metadata": {},
   "outputs": [],
   "source": [
    "class Report:\n",
    "    def generate_report(self):\n",
    "        print(\"Generating report...\")\n",
    "\n",
    "class FileSaver:\n",
    "    def save_to_file(self, file_name):\n",
    "        print(f\"Saving to {file_name}\")\n"
   ]
  },
  {
   "cell_type": "markdown",
   "id": "5370fb47",
   "metadata": {},
   "source": [
    "2. Open/Closed Principle (OCP)\n",
    "Definition: Software entities (classes, modules, functions) should be open for extension but closed for modification.\n",
    "\n",
    "Before (Violation of OCP):\n",
    "Adding new shapes requires modifying the Renderer class.\n",
    "\n"
   ]
  },
  {
   "cell_type": "code",
   "execution_count": 5,
   "id": "7040f273",
   "metadata": {},
   "outputs": [],
   "source": [
    "class Shape:\n",
    "    def draw(self):\n",
    "        pass\n",
    "\n",
    "class Renderer:\n",
    "    def render(self, shape):\n",
    "        if isinstance(shape, Circle):\n",
    "            print(\"Rendering a circle\")\n",
    "        elif isinstance(shape, Square):\n",
    "            print(\"Rendering a square\")\n"
   ]
  },
  {
   "cell_type": "markdown",
   "id": "b7ae3f17",
   "metadata": {},
   "source": [
    "After (Following OCP):\n",
    "Adding a new shape class, such as Triangle, does not require modifying Renderer.\n",
    "\n"
   ]
  },
  {
   "cell_type": "code",
   "execution_count": 6,
   "id": "7fceca76",
   "metadata": {},
   "outputs": [],
   "source": [
    "class Shape:\n",
    "    def draw(self):\n",
    "        pass\n",
    "\n",
    "class Circle(Shape):\n",
    "    def draw(self):\n",
    "        print(\"Rendering a circle\")\n",
    "\n",
    "class Square(Shape):\n",
    "    def draw(self):\n",
    "        print(\"Rendering a square\")\n",
    "\n",
    "class Renderer:\n",
    "    def render(self, shape: Shape):\n",
    "        shape.draw()\n"
   ]
  },
  {
   "cell_type": "markdown",
   "id": "a65f494a",
   "metadata": {},
   "source": [
    "3. Liskov Substitution Principle (LSP)\n",
    "Definition: Subtypes must be substitutable for their base types without altering the program's correctness.\n",
    "\n",
    "Before (Violation of LSP):\n",
    "Substituting Ostrich for Bird violates LSP because it doesn't support the fly behavior.\n",
    "\n"
   ]
  },
  {
   "cell_type": "code",
   "execution_count": null,
   "id": "0fdf277c",
   "metadata": {},
   "outputs": [],
   "source": [
    "class Bird:\n",
    "    def fly(self):\n",
    "        print(\"Flying!\")\n",
    "\n",
    "class Ostrich(Bird):\n",
    "    def fly(self):\n",
    "        raise NotImplementedError(\"Ostriches can't fly!\")\n"
   ]
  },
  {
   "cell_type": "markdown",
   "id": "45ebd059",
   "metadata": {},
   "source": [
    "After (Following LSP):\n",
    "Now, both FlyingBird and Ostrich are substitutable for Bird with consistent behavior.\n",
    "\n"
   ]
  },
  {
   "cell_type": "code",
   "execution_count": null,
   "id": "f8022e28",
   "metadata": {},
   "outputs": [],
   "source": [
    "class Bird:\n",
    "    def move(self):\n",
    "        pass\n",
    "\n",
    "class FlyingBird(Bird):\n",
    "    def move(self):\n",
    "        print(\"Flying!\")\n",
    "\n",
    "class Ostrich(Bird):\n",
    "    def move(self):\n",
    "        print(\"Running!\")\n"
   ]
  },
  {
   "cell_type": "markdown",
   "id": "2c1e742b",
   "metadata": {},
   "source": [
    "4. Interface Segregation Principle (ISP)\n",
    "Definition: A class should not be forced to implement interfaces it does not use.\n",
    "\n",
    "Before (Violation of ISP):\n",
    "Robot is forced to implement an eat method it doesn’t use.\n",
    "\n"
   ]
  },
  {
   "cell_type": "code",
   "execution_count": 7,
   "id": "994c7ec4",
   "metadata": {},
   "outputs": [],
   "source": [
    "class Worker:\n",
    "    def work(self):\n",
    "        pass\n",
    "\n",
    "    def eat(self):\n",
    "        pass\n",
    "\n",
    "class Robot(Worker):\n",
    "    def work(self):\n",
    "        print(\"Working!\")\n",
    "\n",
    "    def eat(self):\n",
    "        raise NotImplementedError(\"Robots don't eat!\")\n"
   ]
  },
  {
   "cell_type": "markdown",
   "id": "3ee90b8e",
   "metadata": {},
   "source": [
    "After (Following ISP):\n",
    "Separate interfaces (Worker and Eater) ensure no class is forced to implement unused methods.\n",
    "\n"
   ]
  },
  {
   "cell_type": "code",
   "execution_count": 8,
   "id": "76395d82",
   "metadata": {},
   "outputs": [],
   "source": [
    "class Worker:\n",
    "    def work(self):\n",
    "        pass\n",
    "\n",
    "class Eater:\n",
    "    def eat(self):\n",
    "        pass\n",
    "\n",
    "class Human(Worker, Eater):\n",
    "    def work(self):\n",
    "        print(\"Working!\")\n",
    "\n",
    "    def eat(self):\n",
    "        print(\"Eating!\")\n",
    "\n",
    "class Robot(Worker):\n",
    "    def work(self):\n",
    "        print(\"Working!\")\n"
   ]
  },
  {
   "cell_type": "markdown",
   "id": "1cd69548",
   "metadata": {},
   "source": [
    "5. Dependency Inversion Principle (DIP)\n",
    "Definition: High-level modules should not depend on low-level modules. Both should depend on abstractions.\n",
    "\n",
    "Before (Violation of DIP):\n",
    "The Project class depends on specific implementations.\n",
    "\n"
   ]
  },
  {
   "cell_type": "code",
   "execution_count": 9,
   "id": "ee6b549f",
   "metadata": {},
   "outputs": [],
   "source": [
    "class BackendDeveloper:\n",
    "    def write_code(self):\n",
    "        print(\"Writing backend code...\")\n",
    "\n",
    "class FrontendDeveloper:\n",
    "    def write_code(self):\n",
    "        print(\"Writing frontend code...\")\n",
    "\n",
    "class Project:\n",
    "    def __init__(self):\n",
    "        self.backend = BackendDeveloper()\n",
    "        self.frontend = FrontendDeveloper()\n",
    "\n",
    "    def develop(self):\n",
    "        self.backend.write_code()\n",
    "        self.frontend.write_code()\n"
   ]
  },
  {
   "cell_type": "markdown",
   "id": "2e6c9e7f",
   "metadata": {},
   "source": [
    "After (Following DIP):\n",
    "Project now depends on the abstraction Developer, not the concrete implementations.\n",
    "\n"
   ]
  },
  {
   "cell_type": "code",
   "execution_count": null,
   "id": "fcf8a762",
   "metadata": {},
   "outputs": [],
   "source": [
    "class Developer:\n",
    "    def write_code(self):\n",
    "        pass\n",
    "\n",
    "class BackendDeveloper(Developer):\n",
    "    def write_code(self):\n",
    "        print(\"Writing backend code...\")\n",
    "\n",
    "class FrontendDeveloper(Developer):\n",
    "    def write_code(self):\n",
    "        print(\"Writing frontend code...\")\n",
    "\n",
    "class Project:\n",
    "    def __init__(self, developers):\n",
    "        self.developers = developers\n",
    "\n",
    "    def develop(self):\n",
    "        for developer in self.developers:\n",
    "            developer.write_code()\n",
    "\n",
    "# Usage\n",
    "team = [BackendDeveloper(), FrontendDeveloper()]\n",
    "project = Project(team)\n",
    "project.develop()\n"
   ]
  }
 ],
 "metadata": {
  "kernelspec": {
   "display_name": "base",
   "language": "python",
   "name": "python3"
  },
  "language_info": {
   "codemirror_mode": {
    "name": "ipython",
    "version": 3
   },
   "file_extension": ".py",
   "mimetype": "text/x-python",
   "name": "python",
   "nbconvert_exporter": "python",
   "pygments_lexer": "ipython3",
   "version": "3.12.7"
  }
 },
 "nbformat": 4,
 "nbformat_minor": 5
}
